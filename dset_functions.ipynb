{
 "cells": [
  {
   "cell_type": "code",
   "execution_count": 11,
   "metadata": {},
   "outputs": [
    {
     "name": "stdout",
     "output_type": "stream",
     "text": [
      "[-1, -1, -1, -1, -1]\n",
      "[1, -3, -2, 1, 2]\n",
      "[1, 2, -5, 1, 2]\n"
     ]
    }
   ],
   "source": [
    "dset = []\n",
    "\n",
    "def add_elem(num):\n",
    "    for i in range(num):\n",
    "        dset.append(-1)\n",
    "\n",
    "def find(elem):\n",
    "    if(dset[elem] < 0):\n",
    "        return elem\n",
    "    else:\n",
    "        find_result = find(dset[elem])\n",
    "        dset[elem] = find_result\n",
    "        return find_result\n",
    "\n",
    "def union(a, b):\n",
    "    root1 = find(a)\n",
    "    root2 = find(b)\n",
    "    \n",
    "    newsize = dset[root1] + dset[root2]\n",
    "    if(dset[root1] >= dset[root2]):\n",
    "        dset[root2] = root1\n",
    "        dset[root1] = newsize\n",
    "    else:\n",
    "        dset[root1] = root2\n",
    "        dset[root2] = newsize"
   ]
  }
 ],
 "metadata": {
  "kernelspec": {
   "display_name": "Python 3",
   "language": "python",
   "name": "python3"
  },
  "language_info": {
   "codemirror_mode": {
    "name": "ipython",
    "version": 3
   },
   "file_extension": ".py",
   "mimetype": "text/x-python",
   "name": "python",
   "nbconvert_exporter": "python",
   "pygments_lexer": "ipython3",
   "version": "3.5.2"
  }
 },
 "nbformat": 4,
 "nbformat_minor": 2
}
